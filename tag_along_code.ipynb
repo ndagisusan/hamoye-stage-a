{
 "cells": [
  {
   "cell_type": "code",
   "execution_count": 2,
   "metadata": {},
   "outputs": [],
   "source": [
    "import pandas as pd\n",
    "import numpy as np\n",
    "\n",
    "food_df = pd.read_csv(\"FoodBalanceSheets_E_Africa_NOFLAG.csv\", encoding = \"latin-1\")\n",
    "pd.set_option('display.max_columns', None)\n",
    "pd.set_option('display.max_rows', None)"
   ]
  },
  {
   "cell_type": "code",
   "execution_count": 3,
   "metadata": {},
   "outputs": [
    {
     "name": "stdout",
     "output_type": "stream",
     "text": [
      "                                  Y2017\n",
      "Area                                   \n",
      "Algeria                       325644.27\n",
      "Angola                        229159.57\n",
      "Benin                         124771.22\n",
      "Botswana                       22101.30\n",
      "Burkina Faso                  101855.07\n",
      "Cabo Verde                     14650.74\n",
      "Cameroon                      232030.43\n",
      "Central African Republic       29937.00\n",
      "Chad                           71594.68\n",
      "Comoros                           59.84\n",
      "Congo                          41181.68\n",
      "Côte d'Ivoire                 224599.01\n",
      "Djibouti                       22729.91\n",
      "Egypt                         866379.92\n",
      "Eswatini                       54343.33\n",
      "Ethiopia                      448683.76\n",
      "Ethiopia PDR                       0.00\n",
      "Gabon                          27979.64\n",
      "Gambia                         23154.18\n",
      "Ghana                         337599.06\n",
      "Guinea                         98138.87\n",
      "Guinea-Bissau                  19102.77\n",
      "Kenya                         264660.66\n",
      "Lesotho                        21267.96\n",
      "Liberia                        29342.20\n",
      "Madagascar                    131197.73\n",
      "Malawi                        181098.71\n",
      "Mali                          149928.33\n",
      "Mauritania                    156665.46\n",
      "Mauritius                      51114.83\n",
      "Morocco                       388495.36\n",
      "Mozambique                    161407.98\n",
      "Namibia                        29874.89\n",
      "Niger                         126707.58\n",
      "Nigeria                      1483268.23\n",
      "Rwanda                         73663.69\n",
      "Sao Tome and Principe          12662.63\n",
      "Senegal                        95681.15\n",
      "Seychelles                       442.34\n",
      "Sierra Leone                   55311.33\n",
      "South Africa                  517590.54\n",
      "Sudan                         239931.92\n",
      "Sudan (former)                     0.00\n",
      "Togo                           49841.88\n",
      "Tunisia                       124167.20\n",
      "Uganda                        213950.38\n",
      "United Republic of Tanzania   322616.85\n",
      "Zambia                        103223.77\n",
      "Zimbabwe                       75919.34\n"
     ]
    },
    {
     "name": "stderr",
     "output_type": "stream",
     "text": [
      "C:\\Users\\ndagi\\AppData\\Local\\Temp\\ipykernel_18296\\3126033339.py:2: FutureWarning: Indexing with multiple keys (implicitly converted to a tuple of keys) will be deprecated, use a list instead.\n",
      "  print(food_df.groupby('Area')['Y2017', 'Area'].sum())\n",
      "C:\\Users\\ndagi\\AppData\\Local\\Temp\\ipykernel_18296\\3126033339.py:2: FutureWarning: The default value of numeric_only in DataFrameGroupBy.sum is deprecated. In a future version, numeric_only will default to False. Either specify numeric_only or select only columns which should be valid for the function.\n",
      "  print(food_df.groupby('Area')['Y2017', 'Area'].sum())\n"
     ]
    }
   ],
   "source": [
    "# Q3: Areas that had the highest sum in 2017\n",
    "print(food_df.groupby('Area')['Y2017', 'Area'].sum())"
   ]
  },
  {
   "cell_type": "code",
   "execution_count": 4,
   "metadata": {},
   "outputs": [
    {
     "name": "stdout",
     "output_type": "stream",
     "text": [
      "              Area Code  Item Code  Element Code     Y2014     Y2015  \\\n",
      "Area Code      1.000000  -0.005159     -0.000209  0.006164  0.005472   \n",
      "Item Code     -0.005159   1.000000     -0.024683  0.021722  0.020857   \n",
      "Element Code  -0.000209  -0.024683      1.000000  0.024457  0.023889   \n",
      "Y2014          0.006164   0.021722      0.024457  1.000000  0.994647   \n",
      "Y2015          0.005472   0.020857      0.023889  0.994647  1.000000   \n",
      "Y2016          0.005247   0.020109      0.023444  0.996081  0.995739   \n",
      "Y2017          0.005006   0.021494      0.024254  0.995230  0.988048   \n",
      "Y2018          0.005665   0.021314      0.024279  0.994872  0.988208   \n",
      "\n",
      "                 Y2016     Y2017     Y2018  \n",
      "Area Code     0.005247  0.005006  0.005665  \n",
      "Item Code     0.020109  0.021494  0.021314  \n",
      "Element Code  0.023444  0.024254  0.024279  \n",
      "Y2014         0.996081  0.995230  0.994872  \n",
      "Y2015         0.995739  0.988048  0.988208  \n",
      "Y2016         1.000000  0.992785  0.992757  \n",
      "Y2017         0.992785  1.000000  0.998103  \n",
      "Y2018         0.992757  0.998103  1.000000  \n"
     ]
    },
    {
     "name": "stderr",
     "output_type": "stream",
     "text": [
      "C:\\Users\\ndagi\\AppData\\Local\\Temp\\ipykernel_18296\\1719941019.py:2: FutureWarning: The default value of numeric_only in DataFrame.corr is deprecated. In a future version, it will default to False. Select only valid columns or specify the value of numeric_only to silence this warning.\n",
      "  print(food_df.corr())\n"
     ]
    }
   ],
   "source": [
    "# Q4: Year with the least correlation with ‘Element Code’\n",
    "print(food_df.corr())"
   ]
  },
  {
   "cell_type": "code",
   "execution_count": 5,
   "metadata": {},
   "outputs": [
    {
     "name": "stdout",
     "output_type": "stream",
     "text": [
      "Area Code        134.265576\n",
      "Item Code       2687.176706\n",
      "Element Code    3814.856456\n",
      "Y2014            134.196282\n",
      "Y2015            135.235966\n",
      "Y2016            136.555222\n",
      "Y2017            140.917765\n",
      "Y2018            143.758381\n",
      "dtype: float64\n",
      "Area Code         72.605709\n",
      "Item Code        146.055739\n",
      "Element Code    2212.007033\n",
      "Y2014           1567.663696\n",
      "Y2015           1603.403984\n",
      "Y2016           1640.007194\n",
      "Y2017           1671.862359\n",
      "Y2018           1710.782658\n",
      "dtype: float64\n"
     ]
    },
    {
     "name": "stderr",
     "output_type": "stream",
     "text": [
      "C:\\Users\\ndagi\\AppData\\Local\\Temp\\ipykernel_18296\\1726545888.py:2: FutureWarning: The default value of numeric_only in DataFrame.mean is deprecated. In a future version, it will default to False. In addition, specifying 'numeric_only=None' is deprecated. Select only valid columns or specify the value of numeric_only to silence this warning.\n",
      "  print(food_df.mean())\n",
      "C:\\Users\\ndagi\\AppData\\Local\\Temp\\ipykernel_18296\\1726545888.py:3: FutureWarning: The default value of numeric_only in DataFrame.std is deprecated. In a future version, it will default to False. In addition, specifying 'numeric_only=None' is deprecated. Select only valid columns or specify the value of numeric_only to silence this warning.\n",
      "  print(food_df.std())\n"
     ]
    }
   ],
   "source": [
    "# Q5: The mean and standard deviation for the year 2017\n",
    "print(food_df.mean())\n",
    "print(food_df.std())"
   ]
  },
  {
   "cell_type": "code",
   "execution_count": 6,
   "metadata": {},
   "outputs": [
    {
     "name": "stdout",
     "output_type": "stream",
     "text": [
      "173.04999999999998\n"
     ]
    }
   ],
   "source": [
    "# Q6: The total Protein supply quantity in Madagascar in 2015\n",
    "madagascar_protein_df = food_df.loc[(food_df[\"Area\"] == \"Madagascar\") & (food_df[\"Element\"] == \"Protein supply quantity (g/capita/day)\")]\n",
    "print(madagascar_protein_df[\"Y2015\"].sum())"
   ]
  },
  {
   "cell_type": "code",
   "execution_count": 7,
   "metadata": {},
   "outputs": [
    {
     "name": "stdout",
     "output_type": "stream",
     "text": [
      "1589 2.6073544131401474\n"
     ]
    }
   ],
   "source": [
    "# Q7: Total number and percentage of missing data in 2014\n",
    "blanks_2014 = food_df['Y2014'].isnull().sum()\n",
    "blanks_2014_percent =  (blanks_2014 / food_df.shape[0]) * 100\n",
    "print(blanks_2014, blanks_2014_percent)"
   ]
  },
  {
   "cell_type": "code",
   "execution_count": 8,
   "metadata": {},
   "outputs": [
    {
     "name": "stdout",
     "output_type": "stream",
     "text": [
      "49\n"
     ]
    }
   ],
   "source": [
    "# Q14: Total number of unique countries\n",
    "print(len(food_df['Area'].unique()))"
   ]
  },
  {
   "cell_type": "code",
   "execution_count": 9,
   "metadata": {},
   "outputs": [
    {
     "name": "stdout",
     "output_type": "stream",
     "text": [
      "[[89 63]\n",
      " [92 48]]\n"
     ]
    }
   ],
   "source": [
    "# Q15\n",
    "arr = np.array([[94, 89, 63],\n",
    "                [93, 92, 48],\n",
    "                [92, 94, 56]])\n",
    "\n",
    "print(arr[:2, 1:])"
   ]
  },
  {
   "cell_type": "code",
   "execution_count": 10,
   "metadata": {},
   "outputs": [
    {
     "name": "stdout",
     "output_type": "stream",
     "text": [
      "                                        Area Code  Item Code  Element Code  \\\n",
      "Element                                                                      \n",
      "Domestic supply quantity                   708993   14197445      28068795   \n",
      "Export Quantity                            599910   11840553      26026133   \n",
      "Fat supply quantity (g/capita/day)         675050   13535000       3435732   \n",
      "Feed                                       176272    3538507       7282199   \n",
      "Food                                       663295   13285035      25406622   \n",
      "Food supply (kcal/capita/day)              674057   13511060       3329296   \n",
      "Food supply quantity (kg/capita/yr)        658446   13185401       3163725   \n",
      "Import Quantity                            688174   13795966      28834929   \n",
      "Losses                                     274353    5424803      10292107   \n",
      "Other uses (non-food)                      235554    4729749       8926728   \n",
      "Processing                                 271940    5350416      10313310   \n",
      "Production                                 526751   10450053      21388191   \n",
      "Protein supply quantity (g/capita/day)     675050   13535000       3385502   \n",
      "Residuals                                  623271   12421089      24066350   \n",
      "Seed                                       103537    2035933       4211574   \n",
      "Stock Variation                            571566   11329527      21464704   \n",
      "Total Population - Both sexes                6020     112545         22995   \n",
      "Tourist consumption                         50308    1486528       2869905   \n",
      "\n",
      "                                             Y2014       Y2015       Y2016  \\\n",
      "Element                                                                      \n",
      "Domestic supply quantity                1996716.35  2021493.55  2044842.70   \n",
      "Export Quantity                          150020.64   157614.47   151920.46   \n",
      "Fat supply quantity (g/capita/day)        10225.56    10235.74    10102.77   \n",
      "Feed                                     216927.89   225050.22   228958.65   \n",
      "Food                                    1212332.49  1232361.10  1247022.17   \n",
      "Food supply (kcal/capita/day)            454257.00   453383.00   451810.00   \n",
      "Food supply quantity (kg/capita/yr)       49650.63    49345.13    48985.28   \n",
      "Import Quantity                          274144.48   267018.46   286582.78   \n",
      "Losses                                   153223.00   155439.00   157787.00   \n",
      "Other uses (non-food)                     78718.13    66254.41    69563.68   \n",
      "Processing                               282923.00   287929.00   280631.00   \n",
      "Production                              1931287.75  1947019.39  1943537.15   \n",
      "Protein supply quantity (g/capita/day)    11836.46    11833.95    11779.69   \n",
      "Residuals                                 30149.00    30045.00    37224.00   \n",
      "Seed                                      21922.92    23976.82    23389.20   \n",
      "Stock Variation                           58749.83    34910.99    33140.12   \n",
      "Total Population - Both sexes           1031585.00  1058081.00  1085107.00   \n",
      "Tourist consumption                         416.00      349.00       89.00   \n",
      "\n",
      "                                             Y2017       Y2018  \n",
      "Element                                                         \n",
      "Domestic supply quantity                2088198.10  2161192.10  \n",
      "Export Quantity                          182338.80   181594.80  \n",
      "Fat supply quantity (g/capita/day)        10253.84    10258.69  \n",
      "Feed                                     223705.68   233489.68  \n",
      "Food                                    1258888.28  1303841.28  \n",
      "Food supply (kcal/capita/day)            454681.00   455261.00  \n",
      "Food supply quantity (kg/capita/yr)       48690.04    49056.85  \n",
      "Import Quantity                          294559.09   287997.09  \n",
      "Losses                                   160614.00   163902.00  \n",
      "Other uses (non-food)                     91645.97    91300.97  \n",
      "Processing                               292836.00   308429.00  \n",
      "Production                              2030056.89  2075072.89  \n",
      "Protein supply quantity (g/capita/day)    11842.45    11833.56  \n",
      "Residuals                                 35500.00    34864.00  \n",
      "Seed                                      24870.14    25263.14  \n",
      "Stock Variation                           54316.91    20577.91  \n",
      "Total Population - Both sexes           1112641.00  1140605.00  \n",
      "Tourist consumption                          91.00       90.00  \n"
     ]
    },
    {
     "name": "stderr",
     "output_type": "stream",
     "text": [
      "C:\\Users\\ndagi\\AppData\\Local\\Temp\\ipykernel_18296\\1194227697.py:2: FutureWarning: The default value of numeric_only in DataFrameGroupBy.sum is deprecated. In a future version, numeric_only will default to False. Either specify numeric_only or select only columns which should be valid for the function.\n",
      "  print(food_df.groupby('Element').sum())\n"
     ]
    }
   ],
   "source": [
    "# Q16: Year that has the highest sum of Stock Variation\n",
    "print(food_df.groupby('Element').sum())"
   ]
  },
  {
   "cell_type": "code",
   "execution_count": 11,
   "metadata": {},
   "outputs": [
    {
     "name": "stdout",
     "output_type": "stream",
     "text": [
      "                           Area       Y2017\n",
      "0                Sudan (former)        0.00\n",
      "1                  Ethiopia PDR        0.00\n",
      "2                       Comoros       59.84\n",
      "3                    Seychelles      442.34\n",
      "4         Sao Tome and Principe    12662.63\n",
      "5                    Cabo Verde    14650.74\n",
      "6                 Guinea-Bissau    19102.77\n",
      "7                       Lesotho    21267.96\n",
      "8                      Botswana    22101.30\n",
      "9                      Djibouti    22729.91\n",
      "10                       Gambia    23154.18\n",
      "11                        Gabon    27979.64\n",
      "12                      Liberia    29342.20\n",
      "13                      Namibia    29874.89\n",
      "14     Central African Republic    29937.00\n",
      "15                        Congo    41181.68\n",
      "16                         Togo    49841.88\n",
      "17                    Mauritius    51114.83\n",
      "18                     Eswatini    54343.33\n",
      "19                 Sierra Leone    55311.33\n",
      "20                         Chad    71594.68\n",
      "21                       Rwanda    73663.69\n",
      "22                     Zimbabwe    75919.34\n",
      "23                      Senegal    95681.15\n",
      "24                       Guinea    98138.87\n",
      "25                 Burkina Faso   101855.07\n",
      "26                       Zambia   103223.77\n",
      "27                      Tunisia   124167.20\n",
      "28                        Benin   124771.22\n",
      "29                        Niger   126707.58\n",
      "30                   Madagascar   131197.73\n",
      "31                         Mali   149928.33\n",
      "32                   Mauritania   156665.46\n",
      "33                   Mozambique   161407.98\n",
      "34                       Malawi   181098.71\n",
      "35                       Uganda   213950.38\n",
      "36                Côte d'Ivoire   224599.01\n",
      "37                       Angola   229159.57\n",
      "38                     Cameroon   232030.43\n",
      "39                        Sudan   239931.92\n",
      "40                        Kenya   264660.66\n",
      "41  United Republic of Tanzania   322616.85\n",
      "42                      Algeria   325644.27\n",
      "43                        Ghana   337599.06\n",
      "44                      Morocco   388495.36\n",
      "45                     Ethiopia   448683.76\n",
      "46                 South Africa   517590.54\n",
      "47                        Egypt   866379.92\n",
      "48                      Nigeria  1483268.23\n"
     ]
    },
    {
     "name": "stderr",
     "output_type": "stream",
     "text": [
      "C:\\Users\\ndagi\\AppData\\Local\\Temp\\ipykernel_18296\\1735570732.py:2: FutureWarning: Indexing with multiple keys (implicitly converted to a tuple of keys) will be deprecated, use a list instead.\n",
      "  areas = food_df.groupby('Area')['Y2017', 'Area'].sum()\n",
      "C:\\Users\\ndagi\\AppData\\Local\\Temp\\ipykernel_18296\\1735570732.py:2: FutureWarning: The default value of numeric_only in DataFrameGroupBy.sum is deprecated. In a future version, numeric_only will default to False. Either specify numeric_only or select only columns which should be valid for the function.\n",
      "  areas = food_df.groupby('Area')['Y2017', 'Area'].sum()\n"
     ]
    }
   ],
   "source": [
    "# Q17:  Area that had the 7th lowest sum in 2017\n",
    "areas = food_df.groupby('Area')['Y2017', 'Area'].sum()\n",
    "print(areas.sort_values('Y2017', ascending = True).reset_index()) # 7th position = Index 6"
   ]
  },
  {
   "cell_type": "code",
   "execution_count": 12,
   "metadata": {},
   "outputs": [
    {
     "name": "stdout",
     "output_type": "stream",
     "text": [
      "                                      Y2015       Y2018\n",
      "Item                                                   \n",
      "Alcohol, Non-Food                   2180.00     2293.00\n",
      "Alcoholic Beverages                98783.72    97847.27\n",
      "Animal Products                    11811.73    11578.61\n",
      "Animal fats                       200675.72   269648.27\n",
      "Apples and products                10559.15     9640.51\n",
      "Aquatic Animals, Others                9.26        5.92\n",
      "Aquatic Plants                       631.23      452.02\n",
      "Aquatic Products, Other              638.42      456.65\n",
      "Bananas                            55046.76    55549.23\n",
      "Barley and products                29153.44    31253.70\n",
      "Beans                              20315.77    20121.14\n",
      "Beer                               42053.67    41612.12\n",
      "Beverages, Alcoholic                2818.38     2979.21\n",
      "Beverages, Fermented               47447.92    46874.94\n",
      "Bovine Meat                        22766.42    23926.30\n",
      "Butter, Ghee                        1165.69     1175.59\n",
      "Cassava and products              410235.89   435862.14\n",
      "Cephalopods                          496.95      532.07\n",
      "Cereals - Excluding Beer          845669.36   903280.79\n",
      "Cereals, Other                     18912.55    22125.96\n",
      "Citrus, Other                      15188.91    15804.14\n",
      "Cloves                                77.29       82.36\n",
      "Cocoa Beans and products            7671.59     8353.83\n",
      "Coconut Oil                          556.18      537.70\n",
      "Coconuts - Incl Copra               6646.28     6526.12\n",
      "Coffee and products                 3849.99     4009.65\n",
      "Cottonseed                          7998.00     8802.00\n",
      "Cottonseed Oil                      1507.90     1421.56\n",
      "Cream                                233.37      271.61\n",
      "Crustaceans                          732.86      833.61\n",
      "Dates                              11108.74    11454.52\n",
      "Demersal Fish                       6123.88     6616.23\n",
      "Eggs                               21431.48    20638.48\n",
      "Fats, Animals, Raw                  1729.80     1707.11\n",
      "Fish, Body Oil                       193.73      219.65\n",
      "Fish, Liver Oil                        6.36       48.02\n",
      "Fish, Seafood                      43293.41    44810.20\n",
      "Freshwater Fish                    13195.86    14244.98\n",
      "Fruits - Excluding Wine           282857.19   290381.46\n",
      "Fruits, Other                      57504.33    61370.30\n",
      "Grand Total                       118937.92   119388.06\n",
      "Grapefruit and products             2352.21     2449.18\n",
      "Grapes and products (excl wine)    14607.88    13992.75\n",
      "Groundnut Oil                       5561.17     5463.60\n",
      "Groundnuts (Shelled Eq)            42199.35    46513.58\n",
      "Honey                                713.12      681.56\n",
      "Infant food                          340.38      298.01\n",
      "Lemons, Limes and products          3667.51     4220.50\n",
      "Maize Germ Oil                       950.64      865.77\n",
      "Maize and products                287659.14   297383.10\n",
      "Marine Fish, Other                  3153.59     3134.78\n",
      "Meat                               66042.60    70553.53\n",
      "Meat, Other                         5287.66     5412.90\n",
      "Milk - Excluding Butter           266446.14   281018.64\n",
      "Millet and products                40459.94    49783.34\n",
      "Miscellaneous                       6803.24     6715.51\n",
      "Molluscs, Other                      134.91      157.20\n",
      "Mutton & Goat Meat                  9625.44     9769.46\n",
      "Nuts and products                   6939.31     6886.56\n",
      "Oats                                 930.02     1029.29\n",
      "Offals                              7841.07     8751.58\n",
      "Offals, Edible                      7841.07     8751.58\n",
      "Oilcrops                          163097.03   180845.03\n",
      "Oilcrops Oil, Other                 5398.90     5580.14\n",
      "Oilcrops, Other                     6584.80     6464.42\n",
      "Olive Oil                           1711.65     1983.76\n",
      "Olives (including preserved)       12547.69    12824.75\n",
      "Onions                             36973.65    40608.41\n",
      "Oranges, Mandarines                33421.50    34471.68\n",
      "Palm Oil                           27229.24    32732.58\n",
      "Palm kernels                       52524.00    58841.00\n",
      "Palmkernel Oil                      1408.94     1516.58\n",
      "Peas                                2472.35     2353.80\n",
      "Pelagic Fish                       19838.14    19779.84\n",
      "Pepper                               137.04      141.51\n",
      "Pigmeat                             5914.61     6188.40\n",
      "Pimento                             2754.14     2847.67\n",
      "Pineapples and products            14276.56    16120.73\n",
      "Plantains                          65037.18    65213.66\n",
      "Population                       1058081.00  1140605.00\n",
      "Potatoes and products              78655.23    77793.56\n",
      "Poultry Meat                       22440.36    25257.39\n",
      "Pulses                             59361.19    64771.23\n",
      "Pulses, Other and products         36569.14    42264.26\n",
      "Rape and Mustard Oil                 312.38      247.25\n",
      "Rape and Mustardseed                 663.00      666.00\n",
      "Rice and products                 150657.00   167195.55\n",
      "Ricebran Oil                           0.00        0.00\n",
      "Roots, Other                       42757.91    43797.46\n",
      "Rye and products                     428.14      324.35\n",
      "Sesame seed                         6769.62     8492.35\n",
      "Sesameseed Oil                       587.58      589.79\n",
      "Sorghum and products               82725.53    91504.28\n",
      "Soyabean Oil                       10381.77    11422.03\n",
      "Soyabeans                          16412.47    24180.95\n",
      "Spices                              5059.08     6406.66\n",
      "Spices, Other                       2068.57     3318.96\n",
      "Starchy Roots                     802578.22   855955.18\n",
      "Stimulants                         14180.97    15214.78\n",
      "Sugar & Sweeteners                 80214.74    87663.08\n",
      "Sugar (Raw Equivalent)             70675.27    78055.95\n",
      "Sugar Crops                       317423.30   326132.77\n",
      "Sugar beet                         47240.00    44685.00\n",
      "Sugar cane                        270179.30   281447.76\n",
      "Sugar non-centrifugal                230.85      215.68\n",
      "Sunflower seed                     10686.98     7500.39\n",
      "Sunflowerseed Oil                   4986.00     5996.97\n",
      "Sweet potatoes                     67762.36    77209.90\n",
      "Sweeteners, Other                   8593.45     8701.86\n",
      "Tea (including mate)                2627.37     2834.23\n",
      "Tomatoes and products              68981.37    63750.78\n",
      "Treenuts                            6939.31     6886.56\n",
      "Vegetable Oils                     60659.38    68401.90\n",
      "Vegetables                        264068.13   268337.49\n",
      "Vegetables, Other                 158104.08   163987.21\n",
      "Vegetal Products                  107064.17   107775.39\n",
      "Wheat and products                234710.51   242645.19\n",
      "Wine                                4251.81     4039.32\n",
      "Yams                              203151.78   221272.09\n"
     ]
    },
    {
     "name": "stderr",
     "output_type": "stream",
     "text": [
      "C:\\Users\\ndagi\\AppData\\Local\\Temp\\ipykernel_18296\\1493127703.py:2: FutureWarning: Indexing with multiple keys (implicitly converted to a tuple of keys) will be deprecated, use a list instead.\n",
      "  print(food_df.groupby('Item')['Y2015', 'Y2018'].sum())\n"
     ]
    }
   ],
   "source": [
    "# Q18: Total sum of Wine produced in 2015 and 2018 \n",
    "print(food_df.groupby('Item')['Y2015', 'Y2018'].sum())"
   ]
  },
  {
   "cell_type": "code",
   "execution_count": 13,
   "metadata": {},
   "outputs": [
    {
     "name": "stdout",
     "output_type": "stream",
     "text": [
      "Element\n",
      "Domestic supply quantity                  2088198.10\n",
      "Export Quantity                            182338.80\n",
      "Fat supply quantity (g/capita/day)          10253.84\n",
      "Feed                                       223705.68\n",
      "Food                                      1258888.28\n",
      "Food supply (kcal/capita/day)              454681.00\n",
      "Food supply quantity (kg/capita/yr)         48690.04\n",
      "Import Quantity                            294559.09\n",
      "Losses                                     160614.00\n",
      "Other uses (non-food)                       91645.97\n",
      "Processing                                 292836.00\n",
      "Production                                2030056.89\n",
      "Protein supply quantity (g/capita/day)      11842.45\n",
      "Residuals                                   35500.00\n",
      "Seed                                        24870.14\n",
      "Stock Variation                             54316.91\n",
      "Total Population - Both sexes             1112641.00\n",
      "Tourist consumption                            91.00\n",
      "Name: Y2017, dtype: float64\n"
     ]
    }
   ],
   "source": [
    "# Q19: Total number of the sum of Processing in 2017\n",
    "print(food_df.groupby('Element')['Y2017'].sum())"
   ]
  }
 ],
 "metadata": {
  "kernelspec": {
   "display_name": "Python 3.10.8 64-bit",
   "language": "python",
   "name": "python3"
  },
  "language_info": {
   "codemirror_mode": {
    "name": "ipython",
    "version": 3
   },
   "file_extension": ".py",
   "mimetype": "text/x-python",
   "name": "python",
   "nbconvert_exporter": "python",
   "pygments_lexer": "ipython3",
   "version": "3.10.8"
  },
  "orig_nbformat": 4,
  "vscode": {
   "interpreter": {
    "hash": "6927362a0a547931413fb0caadfb86beb9efd1626967203b52d9b7827c9572eb"
   }
  }
 },
 "nbformat": 4,
 "nbformat_minor": 2
}
